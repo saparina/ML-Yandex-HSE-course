{
 "cells": [
  {
   "cell_type": "code",
   "execution_count": 1,
   "metadata": {
    "collapsed": false
   },
   "outputs": [],
   "source": [
    "import pandas\n",
    "from numpy import corrcoef\n",
    "from sklearn.decomposition import PCA"
   ]
  },
  {
   "cell_type": "code",
   "execution_count": 2,
   "metadata": {
    "collapsed": false
   },
   "outputs": [
    {
     "data": {
      "text/html": [
       "<div>\n",
       "<table border=\"1\" class=\"dataframe\">\n",
       "  <thead>\n",
       "    <tr style=\"text-align: right;\">\n",
       "      <th></th>\n",
       "      <th>AXP</th>\n",
       "      <th>BA</th>\n",
       "      <th>CAT</th>\n",
       "      <th>CSCO</th>\n",
       "      <th>CVX</th>\n",
       "      <th>DD</th>\n",
       "      <th>DIS</th>\n",
       "      <th>GE</th>\n",
       "      <th>GS</th>\n",
       "      <th>HD</th>\n",
       "      <th>...</th>\n",
       "      <th>PFE</th>\n",
       "      <th>PG</th>\n",
       "      <th>T</th>\n",
       "      <th>TRV</th>\n",
       "      <th>UNH</th>\n",
       "      <th>UTX</th>\n",
       "      <th>V</th>\n",
       "      <th>VZ</th>\n",
       "      <th>WMT</th>\n",
       "      <th>XOM</th>\n",
       "    </tr>\n",
       "  </thead>\n",
       "  <tbody>\n",
       "    <tr>\n",
       "      <th>0</th>\n",
       "      <td>76.440002</td>\n",
       "      <td>117.510002</td>\n",
       "      <td>85.029999</td>\n",
       "      <td>24.270000</td>\n",
       "      <td>125.519997</td>\n",
       "      <td>59.409999</td>\n",
       "      <td>64.750000</td>\n",
       "      <td>24.280001</td>\n",
       "      <td>165.250000</td>\n",
       "      <td>75.910004</td>\n",
       "      <td>...</td>\n",
       "      <td>28.799999</td>\n",
       "      <td>79.279999</td>\n",
       "      <td>34.220001</td>\n",
       "      <td>86.379997</td>\n",
       "      <td>71.820000</td>\n",
       "      <td>109.419998</td>\n",
       "      <td>196.240005</td>\n",
       "      <td>47.980000</td>\n",
       "      <td>76.419998</td>\n",
       "      <td>87.750000</td>\n",
       "    </tr>\n",
       "    <tr>\n",
       "      <th>1</th>\n",
       "      <td>76.070000</td>\n",
       "      <td>119.000000</td>\n",
       "      <td>85.110001</td>\n",
       "      <td>24.139999</td>\n",
       "      <td>124.489998</td>\n",
       "      <td>59.319997</td>\n",
       "      <td>64.320000</td>\n",
       "      <td>24.320000</td>\n",
       "      <td>162.970001</td>\n",
       "      <td>76.040001</td>\n",
       "      <td>...</td>\n",
       "      <td>28.709999</td>\n",
       "      <td>78.620003</td>\n",
       "      <td>34.090000</td>\n",
       "      <td>85.870003</td>\n",
       "      <td>72.320000</td>\n",
       "      <td>110.000000</td>\n",
       "      <td>193.339996</td>\n",
       "      <td>47.270000</td>\n",
       "      <td>75.750000</td>\n",
       "      <td>87.360001</td>\n",
       "    </tr>\n",
       "    <tr>\n",
       "      <th>2</th>\n",
       "      <td>75.989998</td>\n",
       "      <td>118.510002</td>\n",
       "      <td>84.500000</td>\n",
       "      <td>24.430000</td>\n",
       "      <td>124.070000</td>\n",
       "      <td>59.319997</td>\n",
       "      <td>64.449997</td>\n",
       "      <td>24.230000</td>\n",
       "      <td>162.309998</td>\n",
       "      <td>75.519997</td>\n",
       "      <td>...</td>\n",
       "      <td>28.490000</td>\n",
       "      <td>77.720001</td>\n",
       "      <td>34.049999</td>\n",
       "      <td>85.980003</td>\n",
       "      <td>71.980003</td>\n",
       "      <td>109.260002</td>\n",
       "      <td>191.559998</td>\n",
       "      <td>46.950001</td>\n",
       "      <td>74.650002</td>\n",
       "      <td>87.139999</td>\n",
       "    </tr>\n",
       "    <tr>\n",
       "      <th>3</th>\n",
       "      <td>76.320000</td>\n",
       "      <td>119.379997</td>\n",
       "      <td>84.199997</td>\n",
       "      <td>23.770000</td>\n",
       "      <td>123.489998</td>\n",
       "      <td>59.509996</td>\n",
       "      <td>65.239998</td>\n",
       "      <td>24.250000</td>\n",
       "      <td>162.289993</td>\n",
       "      <td>76.070000</td>\n",
       "      <td>...</td>\n",
       "      <td>28.520000</td>\n",
       "      <td>78.050003</td>\n",
       "      <td>34.230000</td>\n",
       "      <td>85.830002</td>\n",
       "      <td>72.160004</td>\n",
       "      <td>109.660004</td>\n",
       "      <td>193.559998</td>\n",
       "      <td>47.669998</td>\n",
       "      <td>74.620003</td>\n",
       "      <td>87.070000</td>\n",
       "    </tr>\n",
       "    <tr>\n",
       "      <th>4</th>\n",
       "      <td>75.889999</td>\n",
       "      <td>118.739998</td>\n",
       "      <td>83.800003</td>\n",
       "      <td>23.330000</td>\n",
       "      <td>122.639999</td>\n",
       "      <td>59.009995</td>\n",
       "      <td>65.190002</td>\n",
       "      <td>24.049999</td>\n",
       "      <td>159.850006</td>\n",
       "      <td>75.959999</td>\n",
       "      <td>...</td>\n",
       "      <td>28.879999</td>\n",
       "      <td>77.209999</td>\n",
       "      <td>33.980000</td>\n",
       "      <td>85.410004</td>\n",
       "      <td>71.989998</td>\n",
       "      <td>109.360001</td>\n",
       "      <td>193.050003</td>\n",
       "      <td>47.000000</td>\n",
       "      <td>74.360001</td>\n",
       "      <td>86.900002</td>\n",
       "    </tr>\n",
       "  </tbody>\n",
       "</table>\n",
       "<p>5 rows × 30 columns</p>\n",
       "</div>"
      ],
      "text/plain": [
       "         AXP          BA        CAT       CSCO         CVX         DD  \\\n",
       "0  76.440002  117.510002  85.029999  24.270000  125.519997  59.409999   \n",
       "1  76.070000  119.000000  85.110001  24.139999  124.489998  59.319997   \n",
       "2  75.989998  118.510002  84.500000  24.430000  124.070000  59.319997   \n",
       "3  76.320000  119.379997  84.199997  23.770000  123.489998  59.509996   \n",
       "4  75.889999  118.739998  83.800003  23.330000  122.639999  59.009995   \n",
       "\n",
       "         DIS         GE          GS         HD    ...            PFE  \\\n",
       "0  64.750000  24.280001  165.250000  75.910004    ...      28.799999   \n",
       "1  64.320000  24.320000  162.970001  76.040001    ...      28.709999   \n",
       "2  64.449997  24.230000  162.309998  75.519997    ...      28.490000   \n",
       "3  65.239998  24.250000  162.289993  76.070000    ...      28.520000   \n",
       "4  65.190002  24.049999  159.850006  75.959999    ...      28.879999   \n",
       "\n",
       "          PG          T        TRV        UNH         UTX           V  \\\n",
       "0  79.279999  34.220001  86.379997  71.820000  109.419998  196.240005   \n",
       "1  78.620003  34.090000  85.870003  72.320000  110.000000  193.339996   \n",
       "2  77.720001  34.049999  85.980003  71.980003  109.260002  191.559998   \n",
       "3  78.050003  34.230000  85.830002  72.160004  109.660004  193.559998   \n",
       "4  77.209999  33.980000  85.410004  71.989998  109.360001  193.050003   \n",
       "\n",
       "          VZ        WMT        XOM  \n",
       "0  47.980000  76.419998  87.750000  \n",
       "1  47.270000  75.750000  87.360001  \n",
       "2  46.950001  74.650002  87.139999  \n",
       "3  47.669998  74.620003  87.070000  \n",
       "4  47.000000  74.360001  86.900002  \n",
       "\n",
       "[5 rows x 30 columns]"
      ]
     },
     "execution_count": 2,
     "metadata": {},
     "output_type": "execute_result"
    }
   ],
   "source": [
    "prices = pandas.read_csv('close_prices.csv')\n",
    "prices.pop('date')\n",
    "prices.head()"
   ]
  },
  {
   "cell_type": "code",
   "execution_count": 3,
   "metadata": {
    "collapsed": false
   },
   "outputs": [
    {
     "data": {
      "text/plain": [
       "array([ 0.73897118,  0.11007169,  0.04995088,  0.0287492 ,  0.02215448,\n",
       "        0.01931577,  0.00674853,  0.00614091,  0.00320594,  0.00305611])"
      ]
     },
     "execution_count": 3,
     "metadata": {},
     "output_type": "execute_result"
    }
   ],
   "source": [
    "pca = PCA(n_components = 10)\n",
    "pca = pca.fit(prices)\n",
    "pca.explained_variance_ratio_"
   ]
  },
  {
   "cell_type": "code",
   "execution_count": 4,
   "metadata": {
    "collapsed": false
   },
   "outputs": [
    {
     "data": {
      "text/html": [
       "<div>\n",
       "<table border=\"1\" class=\"dataframe\">\n",
       "  <thead>\n",
       "    <tr style=\"text-align: right;\">\n",
       "      <th></th>\n",
       "      <th>^DJI</th>\n",
       "    </tr>\n",
       "  </thead>\n",
       "  <tbody>\n",
       "    <tr>\n",
       "      <th>0</th>\n",
       "      <td>15401.379883</td>\n",
       "    </tr>\n",
       "    <tr>\n",
       "      <th>1</th>\n",
       "      <td>15334.589844</td>\n",
       "    </tr>\n",
       "    <tr>\n",
       "      <th>2</th>\n",
       "      <td>15273.259766</td>\n",
       "    </tr>\n",
       "    <tr>\n",
       "      <th>3</th>\n",
       "      <td>15328.299805</td>\n",
       "    </tr>\n",
       "    <tr>\n",
       "      <th>4</th>\n",
       "      <td>15258.240234</td>\n",
       "    </tr>\n",
       "  </tbody>\n",
       "</table>\n",
       "</div>"
      ],
      "text/plain": [
       "           ^DJI\n",
       "0  15401.379883\n",
       "1  15334.589844\n",
       "2  15273.259766\n",
       "3  15328.299805\n",
       "4  15258.240234"
      ]
     },
     "execution_count": 4,
     "metadata": {},
     "output_type": "execute_result"
    }
   ],
   "source": [
    "test = pandas.read_csv('djia_index.csv')\n",
    "test.pop('date')\n",
    "test.head()"
   ]
  },
  {
   "cell_type": "code",
   "execution_count": 5,
   "metadata": {
    "collapsed": false
   },
   "outputs": [
    {
     "name": "stdout",
     "output_type": "stream",
     "text": [
      "26\n"
     ]
    },
    {
     "data": {
      "text/plain": [
       "array([  1.61383840e-02,   1.20644923e-01,   5.16612711e-02,\n",
       "         5.04842369e-02,   1.25859933e-01,   1.14089567e-01,\n",
       "         2.33906290e-01,   6.20513749e-03,   2.51227032e-01,\n",
       "         2.88996029e-01,   2.64998795e-01,   9.31320168e-02,\n",
       "         9.13948403e-02,   4.69879340e-02,   2.90549417e-02,\n",
       "         2.61068828e-02,   3.29615584e-01,   7.13897133e-02,\n",
       "         7.62295699e-02,   2.11888868e-01,   2.30922941e-02,\n",
       "         7.77316954e-02,   7.20594590e-03,   1.89479745e-01,\n",
       "         3.21564017e-01,   5.36834873e-02,   5.79683946e-01,\n",
       "         1.09122230e-04,   8.71614334e-02,   4.29421420e-02])"
      ]
     },
     "execution_count": 5,
     "metadata": {},
     "output_type": "execute_result"
    }
   ],
   "source": [
    "pca_prices = pca.transform(prices)\n",
    "first = pca.components_[0]\n",
    "for i in range(0, len(first)):\n",
    "    if first[i] == max(abs(first)):\n",
    "        print(i)\n",
    "abs(pca.components_[0])"
   ]
  },
  {
   "cell_type": "code",
   "execution_count": 6,
   "metadata": {
    "collapsed": false
   },
   "outputs": [
    {
     "data": {
      "text/plain": [
       "array([[ 1.        ,  0.90965222],\n",
       "       [ 0.90965222,  1.        ]])"
      ]
     },
     "execution_count": 6,
     "metadata": {},
     "output_type": "execute_result"
    }
   ],
   "source": [
    "corrcoef(pca_prices[:,0], test['^DJI'])"
   ]
  }
 ],
 "metadata": {
  "kernelspec": {
   "display_name": "Python 3",
   "language": "python",
   "name": "python3"
  },
  "language_info": {
   "codemirror_mode": {
    "name": "ipython",
    "version": 3
   },
   "file_extension": ".py",
   "mimetype": "text/x-python",
   "name": "python",
   "nbconvert_exporter": "python",
   "pygments_lexer": "ipython3",
   "version": "3.6.0"
  }
 },
 "nbformat": 4,
 "nbformat_minor": 2
}
