{
 "cells": [
  {
   "cell_type": "code",
   "execution_count": 1,
   "metadata": {
    "collapsed": false
   },
   "outputs": [],
   "source": [
    "import pandas\n",
    "import numpy as np\n",
    "from sklearn.ensemble import GradientBoostingClassifier, RandomForestClassifier\n",
    "from sklearn.model_selection import train_test_split\n",
    "from sklearn.metrics import log_loss\n",
    "import matplotlib.pyplot as plt\n",
    "import math\n",
    "%matplotlib inline"
   ]
  },
  {
   "cell_type": "code",
   "execution_count": 2,
   "metadata": {
    "collapsed": false
   },
   "outputs": [
    {
     "data": {
      "text/html": [
       "<div>\n",
       "<table border=\"1\" class=\"dataframe\">\n",
       "  <thead>\n",
       "    <tr style=\"text-align: right;\">\n",
       "      <th></th>\n",
       "      <th>D1</th>\n",
       "      <th>D2</th>\n",
       "      <th>D3</th>\n",
       "      <th>D4</th>\n",
       "      <th>D5</th>\n",
       "      <th>D6</th>\n",
       "      <th>D7</th>\n",
       "      <th>D8</th>\n",
       "      <th>D9</th>\n",
       "      <th>D10</th>\n",
       "      <th>...</th>\n",
       "      <th>D1767</th>\n",
       "      <th>D1768</th>\n",
       "      <th>D1769</th>\n",
       "      <th>D1770</th>\n",
       "      <th>D1771</th>\n",
       "      <th>D1772</th>\n",
       "      <th>D1773</th>\n",
       "      <th>D1774</th>\n",
       "      <th>D1775</th>\n",
       "      <th>D1776</th>\n",
       "    </tr>\n",
       "  </thead>\n",
       "  <tbody>\n",
       "    <tr>\n",
       "      <th>0</th>\n",
       "      <td>0.000000</td>\n",
       "      <td>0.497009</td>\n",
       "      <td>0.10</td>\n",
       "      <td>0.0</td>\n",
       "      <td>0.132956</td>\n",
       "      <td>0.678031</td>\n",
       "      <td>0.273166</td>\n",
       "      <td>0.585445</td>\n",
       "      <td>0.743663</td>\n",
       "      <td>0.243144</td>\n",
       "      <td>...</td>\n",
       "      <td>0</td>\n",
       "      <td>0</td>\n",
       "      <td>0</td>\n",
       "      <td>0</td>\n",
       "      <td>0</td>\n",
       "      <td>0</td>\n",
       "      <td>0</td>\n",
       "      <td>0</td>\n",
       "      <td>0</td>\n",
       "      <td>0</td>\n",
       "    </tr>\n",
       "    <tr>\n",
       "      <th>1</th>\n",
       "      <td>0.366667</td>\n",
       "      <td>0.606291</td>\n",
       "      <td>0.05</td>\n",
       "      <td>0.0</td>\n",
       "      <td>0.111209</td>\n",
       "      <td>0.803455</td>\n",
       "      <td>0.106105</td>\n",
       "      <td>0.411754</td>\n",
       "      <td>0.836582</td>\n",
       "      <td>0.106480</td>\n",
       "      <td>...</td>\n",
       "      <td>1</td>\n",
       "      <td>1</td>\n",
       "      <td>1</td>\n",
       "      <td>1</td>\n",
       "      <td>0</td>\n",
       "      <td>1</td>\n",
       "      <td>0</td>\n",
       "      <td>0</td>\n",
       "      <td>1</td>\n",
       "      <td>0</td>\n",
       "    </tr>\n",
       "    <tr>\n",
       "      <th>2</th>\n",
       "      <td>0.033300</td>\n",
       "      <td>0.480124</td>\n",
       "      <td>0.00</td>\n",
       "      <td>0.0</td>\n",
       "      <td>0.209791</td>\n",
       "      <td>0.610350</td>\n",
       "      <td>0.356453</td>\n",
       "      <td>0.517720</td>\n",
       "      <td>0.679051</td>\n",
       "      <td>0.352308</td>\n",
       "      <td>...</td>\n",
       "      <td>0</td>\n",
       "      <td>0</td>\n",
       "      <td>0</td>\n",
       "      <td>0</td>\n",
       "      <td>0</td>\n",
       "      <td>0</td>\n",
       "      <td>0</td>\n",
       "      <td>0</td>\n",
       "      <td>0</td>\n",
       "      <td>0</td>\n",
       "    </tr>\n",
       "    <tr>\n",
       "      <th>3</th>\n",
       "      <td>0.000000</td>\n",
       "      <td>0.538825</td>\n",
       "      <td>0.00</td>\n",
       "      <td>0.5</td>\n",
       "      <td>0.196344</td>\n",
       "      <td>0.724230</td>\n",
       "      <td>0.235606</td>\n",
       "      <td>0.288764</td>\n",
       "      <td>0.805110</td>\n",
       "      <td>0.208989</td>\n",
       "      <td>...</td>\n",
       "      <td>0</td>\n",
       "      <td>0</td>\n",
       "      <td>0</td>\n",
       "      <td>0</td>\n",
       "      <td>0</td>\n",
       "      <td>0</td>\n",
       "      <td>0</td>\n",
       "      <td>0</td>\n",
       "      <td>0</td>\n",
       "      <td>0</td>\n",
       "    </tr>\n",
       "    <tr>\n",
       "      <th>4</th>\n",
       "      <td>0.100000</td>\n",
       "      <td>0.517794</td>\n",
       "      <td>0.00</td>\n",
       "      <td>0.0</td>\n",
       "      <td>0.494734</td>\n",
       "      <td>0.781422</td>\n",
       "      <td>0.154361</td>\n",
       "      <td>0.303809</td>\n",
       "      <td>0.812646</td>\n",
       "      <td>0.125177</td>\n",
       "      <td>...</td>\n",
       "      <td>0</td>\n",
       "      <td>0</td>\n",
       "      <td>0</td>\n",
       "      <td>0</td>\n",
       "      <td>0</td>\n",
       "      <td>0</td>\n",
       "      <td>0</td>\n",
       "      <td>0</td>\n",
       "      <td>0</td>\n",
       "      <td>0</td>\n",
       "    </tr>\n",
       "  </tbody>\n",
       "</table>\n",
       "<p>5 rows × 1776 columns</p>\n",
       "</div>"
      ],
      "text/plain": [
       "         D1        D2    D3   D4        D5        D6        D7        D8  \\\n",
       "0  0.000000  0.497009  0.10  0.0  0.132956  0.678031  0.273166  0.585445   \n",
       "1  0.366667  0.606291  0.05  0.0  0.111209  0.803455  0.106105  0.411754   \n",
       "2  0.033300  0.480124  0.00  0.0  0.209791  0.610350  0.356453  0.517720   \n",
       "3  0.000000  0.538825  0.00  0.5  0.196344  0.724230  0.235606  0.288764   \n",
       "4  0.100000  0.517794  0.00  0.0  0.494734  0.781422  0.154361  0.303809   \n",
       "\n",
       "         D9       D10  ...    D1767  D1768  D1769  D1770  D1771  D1772  D1773  \\\n",
       "0  0.743663  0.243144  ...        0      0      0      0      0      0      0   \n",
       "1  0.836582  0.106480  ...        1      1      1      1      0      1      0   \n",
       "2  0.679051  0.352308  ...        0      0      0      0      0      0      0   \n",
       "3  0.805110  0.208989  ...        0      0      0      0      0      0      0   \n",
       "4  0.812646  0.125177  ...        0      0      0      0      0      0      0   \n",
       "\n",
       "   D1774  D1775  D1776  \n",
       "0      0      0      0  \n",
       "1      0      1      0  \n",
       "2      0      0      0  \n",
       "3      0      0      0  \n",
       "4      0      0      0  \n",
       "\n",
       "[5 rows x 1776 columns]"
      ]
     },
     "execution_count": 2,
     "metadata": {},
     "output_type": "execute_result"
    }
   ],
   "source": [
    "data = pandas.read_csv('gbm-data.csv')\n",
    "y = data.pop('Activity').values\n",
    "X = data.values\n",
    "data.head()"
   ]
  },
  {
   "cell_type": "code",
   "execution_count": 3,
   "metadata": {
    "collapsed": true
   },
   "outputs": [],
   "source": [
    "X_train, X_test, y_train, y_test = train_test_split(X, y, test_size = 0.8, random_state = 241)\n",
    "clf = GradientBoostingClassifier(n_estimators=250, verbose=True, random_state=241)"
   ]
  },
  {
   "cell_type": "code",
   "execution_count": 4,
   "metadata": {
    "collapsed": false,
    "scrolled": true
   },
   "outputs": [
    {
     "name": "stdout",
     "output_type": "stream",
     "text": [
      "1\n",
      "      Iter       Train Loss   Remaining Time \n",
      "         1           1.0190           16.60s\n",
      "         2           0.9192           16.50s\n",
      "         3           0.8272           17.16s\n",
      "         4           0.7834           17.83s\n",
      "         5           0.7109           17.48s\n",
      "         6           0.6368           17.36s\n",
      "         7           0.5797           16.87s\n",
      "         8           0.5610           16.35s\n",
      "         9           0.5185           16.51s\n",
      "        10           0.4984           16.29s\n",
      "        20           0.1999           14.92s\n",
      "        30           0.1313           13.77s\n",
      "        40           0.0790           13.81s\n",
      "        50           0.0511           13.06s\n",
      "        60           0.0352           12.25s\n",
      "        70           0.0245           11.52s\n",
      "        80           0.0162           10.85s\n",
      "        90           0.0114           10.18s\n",
      "       100           0.0077            9.55s\n",
      "       200           0.0004            2.85s\n",
      "0.5\n",
      "      Iter       Train Loss   Remaining Time \n",
      "         1           1.1255           16.40s\n",
      "         2           1.0035           16.14s\n",
      "         3           0.9386           16.73s\n",
      "         4           0.8844           16.04s\n",
      "         5           0.8381           15.69s\n",
      "         6           0.7995           15.36s\n",
      "         7           0.7559           15.84s\n",
      "         8           0.7205           15.59s\n",
      "         9           0.6958           15.36s\n",
      "        10           0.6725           15.16s\n",
      "        20           0.4672           13.97s\n",
      "        30           0.3179           13.29s\n",
      "        40           0.2274           12.62s\n",
      "        50           0.1774           11.97s\n",
      "        60           0.1394           11.34s\n",
      "        70           0.1050           10.74s\n",
      "        80           0.0805           10.14s\n",
      "        90           0.0650            9.51s\n",
      "       100           0.0511            8.92s\n",
      "       200           0.0058            2.93s\n",
      "0.3\n",
      "      Iter       Train Loss   Remaining Time \n",
      "         1           1.2095           16.73s\n",
      "         2           1.1006           16.36s\n",
      "         3           1.0240           17.51s\n",
      "         4           0.9729           17.02s\n",
      "         5           0.9387           16.33s\n",
      "         6           0.8948           16.21s\n",
      "         7           0.8621           16.32s\n",
      "         8           0.8360           16.01s\n",
      "         9           0.8171           15.73s\n",
      "        10           0.7883           15.53s\n",
      "        20           0.6164           14.27s\n",
      "        30           0.4933           13.41s\n",
      "        40           0.4248           12.59s\n",
      "        50           0.3345           11.99s\n",
      "        60           0.2760           11.35s\n",
      "        70           0.2263           10.75s\n",
      "        80           0.1971           10.11s\n",
      "        90           0.1693            9.50s\n",
      "       100           0.1388            8.93s\n",
      "       200           0.0294            2.95s\n",
      "0.2\n",
      "      Iter       Train Loss   Remaining Time \n",
      "         1           1.2613           16.35s\n",
      "         2           1.1715           16.19s\n",
      "         3           1.1009           17.49s\n",
      "         4           1.0529           17.03s\n",
      "         5           1.0130           16.77s\n",
      "         6           0.9740           16.53s\n",
      "         7           0.9475           16.39s\n",
      "         8           0.9197           16.33s\n",
      "         9           0.8979           16.04s\n",
      "        10           0.8730           15.91s\n",
      "        20           0.7207           14.46s\n",
      "        30           0.6055           13.67s\n",
      "        40           0.5244           12.91s\n",
      "        50           0.4501           12.20s\n",
      "        60           0.3908           11.55s\n",
      "        70           0.3372           10.93s\n",
      "        80           0.3009           10.30s\n",
      "        90           0.2603            9.70s\n",
      "       100           0.2327            9.08s\n",
      "       200           0.0835            2.94s\n",
      "36\n",
      "0.531450796319\n",
      "0.1\n",
      "      Iter       Train Loss   Remaining Time \n",
      "         1           1.3199           15.67s\n",
      "         2           1.2645           15.64s\n",
      "         3           1.2170           16.92s\n",
      "         4           1.1775           16.52s\n",
      "         5           1.1404           16.28s\n",
      "         6           1.1106           16.08s\n",
      "         7           1.0844           16.26s\n",
      "         8           1.0617           16.10s\n",
      "         9           1.0411           15.91s\n",
      "        10           1.0223           15.76s\n",
      "        20           0.8864           14.47s\n",
      "        30           0.7844           13.42s\n",
      "        40           0.7176           12.56s\n",
      "        50           0.6590           11.81s\n",
      "        60           0.6120           11.14s\n",
      "        70           0.5599           10.52s\n",
      "        80           0.5242            9.89s\n",
      "        90           0.4829            9.29s\n",
      "       100           0.4473            8.69s\n",
      "       200           0.2379            2.83s\n"
     ]
    },
    {
     "data": {
      "image/png": "[encoded data removed]",
      "text/plain": [
       "<matplotlib.figure.Figure at 0x7f8a0824acf8>"
      ]
     },
     "metadata": {},
     "output_type": "display_data"
    },
    {
     "data": {
      "image/png": "[encoded data removed]",
      "text/plain": [
       "<matplotlib.figure.Figure at 0x7f8a082b6160>"
      ]
     },
     "metadata": {},
     "output_type": "display_data"
    },
    {
     "data": {
      "image/png": "[encoded data removed]",
      "text/plain": [
       "<matplotlib.figure.Figure at 0x7f89d3155cf8>"
      ]
     },
     "metadata": {},
     "output_type": "display_data"
    },
    {
     "data": {
      "image/png": "[encoded data removed]",
      "text/plain": [
       "<matplotlib.figure.Figure at 0x7f89d31184e0>"
      ]
     },
     "metadata": {},
     "output_type": "display_data"
    },
    {
     "data": {
      "image/png": "[encoded data removed]",
      "text/plain": [
       "<matplotlib.figure.Figure at 0x7f89d17101d0>"
      ]
     },
     "metadata": {},
     "output_type": "display_data"
    }
   ],
   "source": [
    "for alpha in [1, 0.5, 0.3, 0.2, 0.1]:\n",
    "    print(alpha)\n",
    "    clf = GradientBoostingClassifier(n_estimators=250, verbose=True, random_state=241, learning_rate = alpha)\n",
    "    clf  = clf.fit(X_train, y_train)\n",
    "    prediction_train = clf.staged_decision_function(X_train)\n",
    "    prediction_test = clf.staged_decision_function(X_test)\n",
    "    \n",
    "    train_loss = []\n",
    "    test_loss = []\n",
    "    for x, y in zip(prediction_train, prediction_test):\n",
    "\n",
    "        x = 1 / (1 + np.exp(-x))\n",
    "        y = 1 / (1 + np.exp(-y))\n",
    "\n",
    "        train_loss.append(log_loss(y_train, x))\n",
    "        test_loss.append(log_loss(y_test, y))\n",
    "    \n",
    "    plt.figure()\n",
    "    plt.plot(test_loss, 'r', linewidth=2)\n",
    "    plt.plot(train_loss, 'g', linewidth=2)\n",
    "    plt.legend(['test', 'train'])\n",
    "     \n",
    "    if alpha == 0.2:\n",
    "        min_loss = min(test_loss)\n",
    "        for i, x in enumerate(test_loss): \n",
    "            if x == min_loss:\n",
    "                print(i)\n",
    "        print(min_loss)"
   ]
  },
  {
   "cell_type": "code",
   "execution_count": 5,
   "metadata": {
    "collapsed": false
   },
   "outputs": [
    {
     "data": {
      "text/plain": [
       "0.54138128618040693"
      ]
     },
     "execution_count": 5,
     "metadata": {},
     "output_type": "execute_result"
    }
   ],
   "source": [
    "rf_clf = RandomForestClassifier(n_estimators=36,  random_state=241)\n",
    "rf_clf = rf_clf.fit(X_train, y_train)\n",
    "log_loss(y_test, rf_clf.predict_proba(X_test))"
   ]
  }
 ],
 "metadata": {
  "kernelspec": {
   "display_name": "Python 3",
   "language": "python",
   "name": "python3"
  },
  "language_info": {
   "codemirror_mode": {
    "name": "ipython",
    "version": 3
   },
   "file_extension": ".py",
   "mimetype": "text/x-python",
   "name": "python",
   "nbconvert_exporter": "python",
   "pygments_lexer": "ipython3",
   "version": "3.6.0"
  }
 },
 "nbformat": 4,
 "nbformat_minor": 2
}
